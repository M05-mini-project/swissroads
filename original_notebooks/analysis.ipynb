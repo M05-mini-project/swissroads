{
 "cells": [
  {
   "cell_type": "code",
   "execution_count": 1,
   "metadata": {},
   "outputs": [],
   "source": [
    "import numpy as np\n",
    "import pandas as pd\n",
    "%matplotlib inline\n",
    "import matplotlib.pyplot as plt\n",
    "import PIL.Image as Image"
   ]
  },
  {
   "cell_type": "markdown",
   "metadata": {},
   "source": [
    "### load the npz file and create the array to be then used for model training and testing"
   ]
  },
  {
   "cell_type": "code",
   "execution_count": 2,
   "metadata": {},
   "outputs": [],
   "source": [
    "with np.load('images_data.npz', allow_pickle=True) as npz_file:\n",
    "    df = pd.DataFrame(npz_file['values'], columns= npz_file['columns'])\n",
    "    \n",
    "df_train = df[df['imageSet'] == 'train']\n",
    "X_tr = df_train.drop(['imageSet','category','imageFileName'], axis=1).values\n",
    "y_tr = df_train.category.values\n",
    "\n",
    "df_test = df[df['imageSet'] == 'test']\n",
    "X_te = df_test.drop(['imageSet','category','imageFileName'], axis=1).values\n",
    "y_te = df_test.category.values\n",
    "\n",
    "df_valid = df[df['imageSet'] == 'valid']\n",
    "X_va = df_valid.drop(['imageSet','category','imageFileName'], axis=1).values\n",
    "y_va = df_valid.category.values"
   ]
  },
  {
   "cell_type": "markdown",
   "metadata": {},
   "source": [
    "### transform the categories into numerical values for NN output"
   ]
  },
  {
   "cell_type": "code",
   "execution_count": 3,
   "metadata": {},
   "outputs": [],
   "source": [
    "def cat2num(x):\n",
    "    if x == 'bike':\n",
    "        return 0\n",
    "    if x=='car':\n",
    "        return 1\n",
    "    if x =='motorcycle':\n",
    "        return 2\n",
    "    if x == 'other':\n",
    "        return 3\n",
    "    if x =='truck':\n",
    "        return 4\n",
    "    if x =='van':\n",
    "        return 5\n",
    "df_train['category_num'] = df_train['category'].apply(cat2num)\n",
    "df_valid['category_num'] = df_valid['category'].apply(cat2num)\n",
    "df_test['category_num'] = df_test['category'].apply(cat2num)\n",
    "y_tr = df_train.category_num.values\n",
    "y_va = df_valid.category_num.values\n",
    "y_te = df_test.category_num.values"
   ]
  },
  {
   "cell_type": "markdown",
   "metadata": {},
   "source": [
    "### scale the data on train dataset"
   ]
  },
  {
   "cell_type": "code",
   "execution_count": 4,
   "metadata": {},
   "outputs": [
    {
     "output_type": "error",
     "ename": "ModuleNotFoundError",
     "evalue": "No module named 'sklearn'",
     "traceback": [
      "\u001b[1;31m---------------------------------------------------------------------------\u001b[0m",
      "\u001b[1;31mModuleNotFoundError\u001b[0m                       Traceback (most recent call last)",
      "\u001b[1;32m<ipython-input-4-43772d67beca>\u001b[0m in \u001b[0;36m<module>\u001b[1;34m\u001b[0m\n\u001b[1;32m----> 1\u001b[1;33m \u001b[1;32mfrom\u001b[0m \u001b[0msklearn\u001b[0m\u001b[1;33m.\u001b[0m\u001b[0mpreprocessing\u001b[0m \u001b[1;32mimport\u001b[0m \u001b[0mStandardScaler\u001b[0m\u001b[1;33m\u001b[0m\u001b[1;33m\u001b[0m\u001b[0m\n\u001b[0m\u001b[0;32m      2\u001b[0m \u001b[0mscaler\u001b[0m \u001b[1;33m=\u001b[0m \u001b[0mStandardScaler\u001b[0m\u001b[1;33m(\u001b[0m\u001b[1;33m)\u001b[0m\u001b[1;33m\u001b[0m\u001b[1;33m\u001b[0m\u001b[0m\n\u001b[0;32m      3\u001b[0m \u001b[0mX_tr\u001b[0m \u001b[1;33m=\u001b[0m \u001b[0mscaler\u001b[0m\u001b[1;33m.\u001b[0m\u001b[0mfit_transform\u001b[0m\u001b[1;33m(\u001b[0m\u001b[0mX_tr\u001b[0m\u001b[1;33m.\u001b[0m\u001b[0mastype\u001b[0m\u001b[1;33m(\u001b[0m\u001b[0mnp\u001b[0m\u001b[1;33m.\u001b[0m\u001b[0mfloat32\u001b[0m\u001b[1;33m)\u001b[0m\u001b[1;33m)\u001b[0m\u001b[1;33m\u001b[0m\u001b[1;33m\u001b[0m\u001b[0m\n\u001b[0;32m      4\u001b[0m \u001b[0mX_va\u001b[0m \u001b[1;33m=\u001b[0m \u001b[0mscaler\u001b[0m\u001b[1;33m.\u001b[0m\u001b[0mtransform\u001b[0m\u001b[1;33m(\u001b[0m\u001b[0mX_va\u001b[0m\u001b[1;33m.\u001b[0m\u001b[0mastype\u001b[0m\u001b[1;33m(\u001b[0m\u001b[0mnp\u001b[0m\u001b[1;33m.\u001b[0m\u001b[0mfloat32\u001b[0m\u001b[1;33m)\u001b[0m\u001b[1;33m)\u001b[0m\u001b[1;33m\u001b[0m\u001b[1;33m\u001b[0m\u001b[0m\n\u001b[0;32m      5\u001b[0m \u001b[0mX_te\u001b[0m \u001b[1;33m=\u001b[0m \u001b[0mscaler\u001b[0m\u001b[1;33m.\u001b[0m\u001b[0mtransform\u001b[0m\u001b[1;33m(\u001b[0m\u001b[0mX_te\u001b[0m\u001b[1;33m.\u001b[0m\u001b[0mastype\u001b[0m\u001b[1;33m(\u001b[0m\u001b[0mnp\u001b[0m\u001b[1;33m.\u001b[0m\u001b[0mfloat32\u001b[0m\u001b[1;33m)\u001b[0m\u001b[1;33m)\u001b[0m\u001b[1;33m\u001b[0m\u001b[1;33m\u001b[0m\u001b[0m\n",
      "\u001b[1;31mModuleNotFoundError\u001b[0m: No module named 'sklearn'"
     ]
    }
   ],
   "source": [
    "from sklearn.preprocessing import StandardScaler\n",
    "scaler = StandardScaler()\n",
    "X_tr = scaler.fit_transform(X_tr.astype(np.float32))\n",
    "X_va = scaler.transform(X_va.astype(np.float32))\n",
    "X_te = scaler.transform(X_te.astype(np.float32))"
   ]
  },
  {
   "cell_type": "markdown",
   "metadata": {},
   "source": [
    "### create a batch generator function to train our nn."
   ]
  },
  {
   "cell_type": "code",
   "execution_count": 5,
   "metadata": {},
   "outputs": [],
   "source": [
    "def get_batches(X, y, batch_size):\n",
    "    shuffled_idx = np.arange(len(y))\n",
    "    np.random.shuffle(shuffled_idx)\n",
    "    \n",
    "    for i in range(0, len(y), batch_size):\n",
    "        batch_idx = shuffled_idx[i:i+batch_size]\n",
    "        yield X[batch_idx], y[batch_idx]"
   ]
  },
  {
   "cell_type": "markdown",
   "metadata": {},
   "source": [
    "### create a one layer dense network graph using tensorflow:\n",
    "- Create the placeholders for X and y\n",
    "- Create an output layer using tf.layers.dense\n",
    "- Create the Loss function with tf.reduce_mean\n",
    "- Create the optimizer (gradient descend) node with a node for the learning rate\n",
    "- Create a train node to be minimized\n",
    "- Finally compute the predictions"
   ]
  },
  {
   "cell_type": "code",
   "execution_count": 6,
   "metadata": {},
   "outputs": [],
   "source": [
    "import tensorflow as tf\n",
    "\n",
    "graph1 = tf.Graph()\n",
    "\n",
    "with graph1.as_default():\n",
    "    # Create placeholders\n",
    "    X = tf.placeholder(dtype=tf.float32, shape=[None, 1280])\n",
    "    y = tf.placeholder(dtype=tf.int32, shape=[None])\n",
    "\n",
    "    # Output layer\n",
    "    logits = tf.layers.dense(\n",
    "        X, 6, activation=None, #6 categories as output\n",
    "        kernel_initializer=tf.variance_scaling_initializer(scale=1, seed=0),\n",
    "        bias_initializer=tf.zeros_initializer(),\n",
    "        name='output'\n",
    "    )\n",
    "    \n",
    "    #Loss function : mean cross-entropy\n",
    "    mean_ce = tf.reduce_mean(tf.nn.sparse_softmax_cross_entropy_with_logits(labels=y, logits=logits))\n",
    "    \n",
    "    #Optimizer : Gradient descent\n",
    "    lr = tf.placeholder(dtype=tf.float32)\n",
    "    gd = tf.train.GradientDescentOptimizer(learning_rate = lr)\n",
    "    \n",
    "    #Minimize Loss function : min(cross-entropy)\n",
    "    train_op = gd.minimize(mean_ce)\n",
    "    \n",
    "    #Compute predictions with the trained model\n",
    "    predictions = tf.argmax(logits, axis=1, output_type=tf.int32)\n",
    "    is_correct = tf.equal(y, predictions)\n",
    "    accuracy = tf.reduce_mean(tf.cast(is_correct, dtype=tf.float32))"
   ]
  },
  {
   "cell_type": "markdown",
   "metadata": {},
   "source": [
    "### Execute the Graph feeding the NN with the batch-generator function:\n",
    "- train the model running our train_op node at each epoch\n",
    "- calculate the accuracy with valid dataset at each epoch\n",
    "-  calculate the accuracy of the final NN with test dataset"
   ]
  },
  {
   "cell_type": "code",
   "execution_count": 7,
   "metadata": {},
   "outputs": [
    {
     "name": "stdout",
     "output_type": "stream",
     "text": [
      "Epoch 1 - valid: 0.791 train: 0.590 (mean)\n",
      "Epoch 2 - valid: 0.849 train: 0.903 (mean)\n",
      "Epoch 3 - valid: 0.863 train: 0.927 (mean)\n",
      "Epoch 4 - valid: 0.863 train: 0.957 (mean)\n",
      "Epoch 5 - valid: 0.863 train: 0.973 (mean)\n",
      "Epoch 6 - valid: 0.863 train: 0.997 (mean)\n",
      "Epoch 7 - valid: 0.871 train: 0.997 (mean)\n",
      "Epoch 8 - valid: 0.871 train: 0.997 (mean)\n",
      "Epoch 9 - valid: 0.871 train: 0.997 (mean)\n",
      "Epoch 10 - valid: 0.878 train: 0.997 (mean)\n",
      "Epoch 11 - valid: 0.878 train: 1.000 (mean)\n",
      "Epoch 12 - valid: 0.878 train: 1.000 (mean)\n",
      "Epoch 13 - valid: 0.878 train: 1.000 (mean)\n",
      "Epoch 14 - valid: 0.878 train: 1.000 (mean)\n",
      "Epoch 15 - valid: 0.878 train: 1.000 (mean)\n",
      "test accuray 1-layer dense : 0.900\n"
     ]
    }
   ],
   "source": [
    "valid_acc_values=[]\n",
    "\n",
    "with tf.Session(graph=graph1) as sess:\n",
    "    # Initialize variables\n",
    "    sess.run(tf.global_variables_initializer())\n",
    "\n",
    "    # Set seed\n",
    "    np.random.seed(0)\n",
    "\n",
    "    # Train several epochs\n",
    "    for epoch in range(15):\n",
    "        # Accuracy values (train) after each batch\n",
    "        batch_acc = []\n",
    "\n",
    "        # Get batches of data\n",
    "        for X_batch, y_batch in get_batches(X_tr, y_tr, 30):\n",
    "            # Run training and evaluate accuracy\n",
    "            _, acc_value = sess.run([train_op, accuracy], feed_dict={\n",
    "                X: X_batch,\n",
    "                y: y_batch,\n",
    "                lr: 0.01 # Learning rate\n",
    "            })\n",
    "\n",
    "            # Save accuracy (current batch)\n",
    "            batch_acc.append(acc_value)\n",
    "\n",
    "        # Evaluate validation accuracy\n",
    "        valid_acc = sess.run(accuracy, feed_dict={\n",
    "            X: X_va,\n",
    "            y: y_va\n",
    "        })\n",
    "        valid_acc_values.append(valid_acc)\n",
    "        \n",
    "        # Print progress\n",
    "        print('Epoch {} - valid: {:.3f} train: {:.3f} (mean)'.format(\n",
    "            epoch+1, valid_acc, np.mean(batch_acc)\n",
    "        ))\n",
    "        \n",
    "    test_acc = sess.run(accuracy, feed_dict={\n",
    "            X: X_te,\n",
    "            y: y_te\n",
    "        })\n",
    "    print('test accuray 1-layer dense : {:.3f}'.format(test_acc))\n",
    "\n"
   ]
  },
  {
   "cell_type": "markdown",
   "metadata": {},
   "source": [
    "- the test accuracy for a 1-layer dense NN is 0.9"
   ]
  },
  {
   "cell_type": "markdown",
   "metadata": {},
   "source": [
    "### create a 2-layer Dense NN :\n",
    "- add a hidden layer to the previous nn graph"
   ]
  },
  {
   "cell_type": "code",
   "execution_count": 8,
   "metadata": {},
   "outputs": [],
   "source": [
    "import tensorflow as tf\n",
    "\n",
    "graph2 = tf.Graph()\n",
    "\n",
    "with graph2.as_default():\n",
    "    # Create placeholders\n",
    "    X = tf.placeholder(dtype=tf.float32, shape=[None, 1280])\n",
    "    y = tf.placeholder(dtype=tf.int32, shape=[None])\n",
    "    \n",
    "    # Hidden Layer\n",
    "    hidden = tf.layers.dense(\n",
    "        X,30,activation=tf.nn.relu,\n",
    "        kernel_initializer=tf.variance_scaling_initializer(scale=2, seed=0),\n",
    "        bias_initializer=tf.zeros_initializer(),\n",
    "        name='hidden'\n",
    "    ) \n",
    "\n",
    "    # Output layer\n",
    "    logits = tf.layers.dense(\n",
    "        hidden, 6, activation=None,\n",
    "        kernel_initializer=tf.variance_scaling_initializer(scale=1, seed=0),\n",
    "        bias_initializer=tf.zeros_initializer(),\n",
    "        name='output'\n",
    "    )\n",
    "    \n",
    "    #Loss function : mean cross-entropy\n",
    "    mean_ce = tf.reduce_mean(tf.nn.sparse_softmax_cross_entropy_with_logits(labels=y, logits=logits))\n",
    "    \n",
    "    #Optimizer : Gradient descent\n",
    "    lr = tf.placeholder(dtype=tf.float32)\n",
    "    gd = tf.train.GradientDescentOptimizer(learning_rate = lr)\n",
    "    \n",
    "    #Minimize Loss function : min(cross-entropy)\n",
    "    train_op = gd.minimize(mean_ce)\n",
    "    \n",
    "    #Compute predictions with the trained model\n",
    "    predictions = tf.argmax(logits, axis=1, output_type=tf.int32)\n",
    "    is_correct = tf.equal(y, predictions)\n",
    "    accuracy = tf.reduce_mean(tf.cast(is_correct, dtype=tf.float32))"
   ]
  },
  {
   "cell_type": "code",
   "execution_count": 9,
   "metadata": {},
   "outputs": [
    {
     "name": "stdout",
     "output_type": "stream",
     "text": [
      "Epoch 1 - valid: 0.691 train: 0.473 (mean)\n",
      "Epoch 2 - valid: 0.806 train: 0.783 (mean)\n",
      "Epoch 3 - valid: 0.827 train: 0.817 (mean)\n",
      "Epoch 4 - valid: 0.842 train: 0.893 (mean)\n",
      "Epoch 5 - valid: 0.849 train: 0.907 (mean)\n",
      "Epoch 6 - valid: 0.863 train: 0.947 (mean)\n",
      "Epoch 7 - valid: 0.871 train: 0.957 (mean)\n",
      "Epoch 8 - valid: 0.885 train: 0.967 (mean)\n",
      "Epoch 9 - valid: 0.892 train: 0.973 (mean)\n",
      "Epoch 10 - valid: 0.892 train: 0.977 (mean)\n",
      "Epoch 11 - valid: 0.899 train: 0.980 (mean)\n",
      "Epoch 12 - valid: 0.899 train: 0.983 (mean)\n",
      "Epoch 13 - valid: 0.899 train: 0.990 (mean)\n",
      "Epoch 14 - valid: 0.899 train: 0.997 (mean)\n",
      "Epoch 15 - valid: 0.892 train: 0.997 (mean)\n",
      "test accuray 2-layer dense : 0.960\n"
     ]
    }
   ],
   "source": [
    "valid_acc_values=[]\n",
    "\n",
    "with tf.Session(graph=graph2) as sess:\n",
    "    # Initialize variables\n",
    "    sess.run(tf.global_variables_initializer())\n",
    "\n",
    "    # Set seed\n",
    "    np.random.seed(0)\n",
    "\n",
    "    # Train several epochs\n",
    "    for epoch in range(15):\n",
    "        # Accuracy values (train) after each batch\n",
    "        batch_acc = []\n",
    "\n",
    "        # Get batches of data\n",
    "        for X_batch, y_batch in get_batches(X_tr, y_tr, 30):\n",
    "            # Run training and evaluate accuracy\n",
    "            _, acc_value = sess.run([train_op, accuracy], feed_dict={\n",
    "                X: X_batch,\n",
    "                y: y_batch,\n",
    "                lr: 0.01 # Learning rate\n",
    "            })\n",
    "\n",
    "            # Save accuracy (current batch)\n",
    "            batch_acc.append(acc_value)\n",
    "\n",
    "        # Evaluate validation accuracy\n",
    "        valid_acc = sess.run(accuracy, feed_dict={\n",
    "            X: X_va,\n",
    "            y: y_va\n",
    "        })\n",
    "        valid_acc_values.append(valid_acc)\n",
    "        \n",
    "        # Print progress\n",
    "        print('Epoch {} - valid: {:.3f} train: {:.3f} (mean)'.format(\n",
    "            epoch+1, valid_acc, np.mean(batch_acc)\n",
    "        ))\n",
    "        \n",
    "    test_acc = sess.run(accuracy, feed_dict={\n",
    "            X: X_te,\n",
    "            y: y_te\n",
    "        })\n",
    "    print('test accuray 2-layer dense : {:.3f}'.format(test_acc))\n",
    "\n"
   ]
  },
  {
   "cell_type": "markdown",
   "metadata": {},
   "source": [
    "- the test accuracy for a 2-layers dense NN is 0.96"
   ]
  },
  {
   "cell_type": "code",
   "execution_count": null,
   "metadata": {},
   "outputs": [],
   "source": []
  }
 ],
 "metadata": {
  "kernelspec": {
   "display_name": "Python 3",
   "language": "python",
   "name": "python3"
  },
  "language_info": {
   "codemirror_mode": {
    "name": "ipython",
    "version": 3
   },
   "file_extension": ".py",
   "mimetype": "text/x-python",
   "name": "python",
   "nbconvert_exporter": "python",
   "pygments_lexer": "ipython3",
   "version": "3.6.11-final"
  }
 },
 "nbformat": 4,
 "nbformat_minor": 4
}