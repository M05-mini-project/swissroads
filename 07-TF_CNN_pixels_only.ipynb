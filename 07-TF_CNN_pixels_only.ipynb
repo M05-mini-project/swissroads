{
 "cells": [
  {
   "cell_type": "code",
   "execution_count": 17,
   "metadata": {},
   "outputs": [],
   "source": [
    "import numpy as np\n",
    "import pandas as pd\n",
    "%matplotlib inline\n",
    "import matplotlib.pyplot as plt\n",
    "import PIL.Image as Image"
   ]
  },
  {
   "cell_type": "markdown",
   "metadata": {},
   "source": [
    "## Goal:\n",
    "\n",
    "Convolutional neural network\n",
    "We tested above different models with the set of high-level features extracted from a pretrained neural network. However, can you get similar results by creating a ConvNet from scratch and using the pixel values from the original images to train the model?\n",
    "\n",
    "What accuracy can we achieve?\n",
    "Can we get good results? - If not, why?"
   ]
  },
  {
   "cell_type": "markdown",
   "metadata": {},
   "source": [
    "### load the npz file and create the array to be then used for model training and testing"
   ]
  },
  {
   "cell_type": "code",
   "execution_count": 18,
   "metadata": {},
   "outputs": [],
   "source": [
    "with np.load('images_data.npz', allow_pickle=True) as npz_file:\n",
    "    df = pd.DataFrame(npz_file['values'], columns= npz_file['columns'])\n",
    "    \n",
    "df_train = df[df['imageSet'] == 'train']\n",
    "df_valid = df[df['imageSet'] == 'valid']\n",
    "df_test = df[df['imageSet'] == 'test']"
   ]
  },
  {
   "cell_type": "markdown",
   "metadata": {},
   "source": [
    "### transform the categories into numerical values for NN output"
   ]
  },
  {
   "cell_type": "code",
   "execution_count": 19,
   "metadata": {},
   "outputs": [
    {
     "name": "stderr",
     "output_type": "stream",
     "text": [
      "C:\\Users\\lmbhoc2\\AppData\\Local\\Continuum\\anaconda3\\envs\\exts-ml\\lib\\site-packages\\ipykernel_launcher.py:14: SettingWithCopyWarning: \n",
      "A value is trying to be set on a copy of a slice from a DataFrame.\n",
      "Try using .loc[row_indexer,col_indexer] = value instead\n",
      "\n",
      "See the caveats in the documentation: http://pandas.pydata.org/pandas-docs/stable/indexing.html#indexing-view-versus-copy\n",
      "  \n",
      "C:\\Users\\lmbhoc2\\AppData\\Local\\Continuum\\anaconda3\\envs\\exts-ml\\lib\\site-packages\\ipykernel_launcher.py:15: SettingWithCopyWarning: \n",
      "A value is trying to be set on a copy of a slice from a DataFrame.\n",
      "Try using .loc[row_indexer,col_indexer] = value instead\n",
      "\n",
      "See the caveats in the documentation: http://pandas.pydata.org/pandas-docs/stable/indexing.html#indexing-view-versus-copy\n",
      "  from ipykernel import kernelapp as app\n",
      "C:\\Users\\lmbhoc2\\AppData\\Local\\Continuum\\anaconda3\\envs\\exts-ml\\lib\\site-packages\\ipykernel_launcher.py:16: SettingWithCopyWarning: \n",
      "A value is trying to be set on a copy of a slice from a DataFrame.\n",
      "Try using .loc[row_indexer,col_indexer] = value instead\n",
      "\n",
      "See the caveats in the documentation: http://pandas.pydata.org/pandas-docs/stable/indexing.html#indexing-view-versus-copy\n",
      "  app.launch_new_instance()\n"
     ]
    }
   ],
   "source": [
    "def cat2num(x):\n",
    "    if x == 'bike':\n",
    "        return 0\n",
    "    if x=='car':\n",
    "        return 1\n",
    "    if x =='motorcycle':\n",
    "        return 2\n",
    "    if x == 'other':\n",
    "        return 3\n",
    "    if x =='truck':\n",
    "        return 4\n",
    "    if x =='van':\n",
    "        return 5\n",
    "df_train['category_num'] = df_train['category'].apply(cat2num)\n",
    "df_valid['category_num'] = df_valid['category'].apply(cat2num)\n",
    "df_test['category_num'] = df_test['category'].apply(cat2num)\n",
    "y_tr = df_train.category_num.values\n",
    "y_va = df_valid.category_num.values\n",
    "y_te = df_test.category_num.values"
   ]
  },
  {
   "cell_type": "markdown",
   "metadata": {},
   "source": [
    "### Create the input data from raw image for the Neural network:\n",
    "- open each image with PIL => get an array (256x256x3)\n",
    "- convert data to float and scale between -0.5 and 0.5"
   ]
  },
  {
   "cell_type": "code",
   "execution_count": 20,
   "metadata": {},
   "outputs": [
    {
     "name": "stdout",
     "output_type": "stream",
     "text": [
      "shape X_tr : (280, 256, 256, 3) - shape y_tr : (280,)\n",
      "shape X_va:(139, 256, 256, 3) - shape y_va : (139,)\n",
      "shape X_te (50, 256, 256, 3) - shape y_te : (50,)\n"
     ]
    }
   ],
   "source": [
    "features = []\n",
    "for i in range(df_train.shape[0]):\n",
    "    pillow_img = Image.open(df_train['imageFileName'].iloc[i])\n",
    "    img = np.array(pillow_img)\n",
    "    features.append(img)\n",
    "X_tr = np.array(features).astype(np.float32)\n",
    "X_tr = (X_tr - 128) / 255\n",
    "\n",
    "features = []\n",
    "for i in range(df_test.shape[0]):\n",
    "    pillow_img = Image.open(df_test['imageFileName'].iloc[i])\n",
    "    img = np.array(pillow_img)\n",
    "    features.append(img)\n",
    "X_te = np.array(features).astype(np.float32)\n",
    "X_te = (X_te - 128) / 255\n",
    "\n",
    "features = []\n",
    "for i in range(df_valid.shape[0]):\n",
    "    pillow_img = Image.open(df_valid['imageFileName'].iloc[i])\n",
    "    img = np.array(pillow_img)\n",
    "    features.append(img)\n",
    "X_va = np.array(features).astype(np.float32)\n",
    "X_va = (X_va - 128) / 255\n",
    "\n",
    "print(\"shape X_tr : \" + str(X_tr.shape) + \" - shape y_tr : \" + str(y_tr.shape))\n",
    "print(\"shape X_va:\" + str(X_va.shape) + \" - shape y_va : \" + str(y_va.shape))\n",
    "print(\"shape X_te \" + str(X_te.shape) + \" - shape y_te : \" + str(y_te.shape))"
   ]
  },
  {
   "cell_type": "markdown",
   "metadata": {},
   "source": [
    "### create a batch generator function"
   ]
  },
  {
   "cell_type": "code",
   "execution_count": 21,
   "metadata": {},
   "outputs": [],
   "source": [
    "def get_batches(X, y, batch_size):\n",
    "    shuffled_idx = np.arange(len(y))\n",
    "    np.random.shuffle(shuffled_idx)\n",
    "    \n",
    "    for i in range(0, len(y), batch_size):\n",
    "        batch_idx = shuffled_idx[i:i+batch_size]\n",
    "        yield X[batch_idx], y[batch_idx]"
   ]
  },
  {
   "cell_type": "code",
   "execution_count": 22,
   "metadata": {},
   "outputs": [
    {
     "name": "stdout",
     "output_type": "stream",
     "text": [
      "Input: (?, 256, 256, 3)\n",
      "Convolutional layer: (?, 64, 64, 64)\n",
      "Maxpool: (?, 16, 16, 64)\n",
      "Convolutional layer: (?, 16, 16, 64)\n",
      "Maxpool: (?, 4, 4, 64)\n",
      "Flatten: (?, 1024)\n",
      "Dropout: (?, 1024)\n",
      "Fully-connected layer: (?, 256)\n",
      "Output layer: (?, 6)\n"
     ]
    }
   ],
   "source": [
    "import tensorflow as tf\n",
    "\n",
    "# Create new graph\n",
    "graph = tf.Graph()\n",
    "\n",
    "with graph.as_default():\n",
    "    # Placeholders\n",
    "    X = tf.placeholder(dtype=tf.float32, shape=[None, 256, 256, 3])\n",
    "    y = tf.placeholder(dtype=tf.int32, shape=[None])\n",
    "    print('Input:', X.shape)\n",
    "    \n",
    "    # Convolutional layer (64 filters, 10x10 kernel, stride: 4)\n",
    "    conv1 = tf.layers.conv2d(\n",
    "        X, 64, (10, 10), (4, 4), 'SAME', # \"same\" padding\n",
    "        activation=tf.nn.relu, # ReLU\n",
    "        kernel_initializer=tf.truncated_normal_initializer(stddev=0.01, seed=0),\n",
    "        name='conv1'\n",
    "    )\n",
    "    print('Convolutional layer:', conv1.shape)\n",
    "    \n",
    "    # Maxpool layer (4x4, stride: 4, \"same\" padding)\n",
    "    pool1 = tf.layers.max_pooling2d(conv1, (4, 4), (4, 4), 'SAME')\n",
    "    print('Maxpool:', pool1.shape)\n",
    "    \n",
    "    # Convolutional layer (64 filters, 3x3, stride: 1)\n",
    "    conv2 = tf.layers.conv2d(\n",
    "        pool1, 64, (3, 3), (1, 1), 'SAME', # \"same\" padding\n",
    "        activation=tf.nn.relu, # ReLU\n",
    "        kernel_initializer=tf.truncated_normal_initializer(stddev=0.01, seed=0),\n",
    "        name='conv2'\n",
    "    )\n",
    "    print('Convolutional layer:', conv2.shape)\n",
    "    \n",
    "    # Maxpool layer (4x4, stride: 4, \"same\" padding)\n",
    "    pool2 = tf.layers.max_pooling2d(conv2, (4, 4), (4, 4), 'SAME')\n",
    "    print('Maxpool:', pool2.shape)\n",
    "    \n",
    "    # Flatten output\n",
    "    flat_output = tf.contrib.layers.flatten(pool2)\n",
    "    print('Flatten:', flat_output.shape)\n",
    "    \n",
    "    # Dropout\n",
    "    training = tf.placeholder(dtype=tf.bool)\n",
    "    flat_output = tf.layers.dropout(flat_output, rate=0.5, seed=0, training=training)\n",
    "    print('Dropout:', flat_output.shape)\n",
    "    \n",
    "    # Fully connected layer\n",
    "    fc1 = tf.layers.dense(\n",
    "        flat_output, 256, # 256 hidden units\n",
    "        activation=tf.nn.relu, # ReLU\n",
    "        kernel_initializer=tf.variance_scaling_initializer(scale=2, seed=0),\n",
    "        bias_initializer=tf.zeros_initializer()\n",
    "    )\n",
    "    print('Fully-connected layer:', fc1.shape)\n",
    "    \n",
    "    # Output layer\n",
    "    logits = tf.layers.dense(\n",
    "        fc1, 6, \n",
    "        activation=None, # No activation function\n",
    "        kernel_initializer=tf.variance_scaling_initializer(scale=1, seed=0),\n",
    "        bias_initializer=tf.zeros_initializer()\n",
    "    )\n",
    "    print('Output layer:', logits.shape)\n",
    "    \n",
    "    # Kernel of the 1st conv. layer\n",
    "    with tf.variable_scope('conv1', reuse=True):\n",
    "        conv_kernels = tf.get_variable('kernel')\n",
    "    \n",
    "    # Mean cross-entropy\n",
    "    mean_ce = tf.reduce_mean(\n",
    "        tf.nn.sparse_softmax_cross_entropy_with_logits(\n",
    "            labels=y, logits=logits))\n",
    "    \n",
    "    # Adam optimizer\n",
    "    lr = tf.placeholder(dtype=tf.float32)\n",
    "    gd = tf.train.AdamOptimizer(learning_rate=lr)\n",
    "\n",
    "    # Minimize cross-entropy\n",
    "    train_op = gd.minimize(mean_ce)\n",
    "    \n",
    "    # Compute predictions and accuracy\n",
    "    predictions = tf.argmax(logits, axis=1, output_type=tf.int32)\n",
    "    is_correct = tf.equal(y, predictions)\n",
    "    accuracy = tf.reduce_mean(tf.cast(is_correct, dtype=tf.float32))"
   ]
  },
  {
   "cell_type": "code",
   "execution_count": 23,
   "metadata": {},
   "outputs": [
    {
     "name": "stdout",
     "output_type": "stream",
     "text": [
      "Epoch 1 - valid: 0.345 train: 0.223 (mean)\n",
      "Epoch 2 - valid: 0.266 train: 0.290 (mean)\n",
      "Epoch 3 - valid: 0.273 train: 0.353 (mean)\n",
      "Epoch 4 - valid: 0.288 train: 0.320 (mean)\n",
      "Epoch 5 - valid: 0.331 train: 0.350 (mean)\n",
      "Epoch 6 - valid: 0.345 train: 0.397 (mean)\n",
      "Epoch 7 - valid: 0.403 train: 0.447 (mean)\n",
      "Epoch 8 - valid: 0.353 train: 0.443 (mean)\n",
      "Epoch 9 - valid: 0.396 train: 0.480 (mean)\n",
      "Epoch 10 - valid: 0.453 train: 0.533 (mean)\n",
      "Epoch 11 - valid: 0.475 train: 0.503 (mean)\n",
      "Epoch 12 - valid: 0.540 train: 0.580 (mean)\n",
      "Epoch 13 - valid: 0.518 train: 0.627 (mean)\n",
      "Epoch 14 - valid: 0.496 train: 0.637 (mean)\n",
      "Epoch 15 - valid: 0.518 train: 0.677 (mean)\n",
      "Test accuracy: 0.680\n"
     ]
    }
   ],
   "source": [
    "# Validation accuracy\n",
    "valid_acc_values = []\n",
    "\n",
    "with tf.Session(graph=graph) as sess:\n",
    "    # Initialize variables\n",
    "    sess.run(tf.global_variables_initializer())\n",
    "    \n",
    "    # Set seed\n",
    "    np.random.seed(0)\n",
    "    \n",
    "    # Train several epochs\n",
    "    for epoch in range(15):\n",
    "        # Accuracy values (train) after each batch\n",
    "        batch_acc = []\n",
    "        \n",
    "        for X_batch, y_batch in get_batches(X_tr, y_tr, 30):\n",
    "            # Run training and evaluate accuracy\n",
    "            _, acc_value = sess.run([train_op, accuracy], feed_dict={\n",
    "                X: X_batch,\n",
    "                y: y_batch,\n",
    "                lr: 0.001, # Learning rate\n",
    "                training: True\n",
    "            })\n",
    "            \n",
    "            # Save accuracy (current batch)\n",
    "            batch_acc.append(acc_value)\n",
    "\n",
    "        # Evaluate validation accuracy\n",
    "        valid_acc = sess.run(accuracy, feed_dict={\n",
    "            X: X_va,\n",
    "            y: y_va,\n",
    "            training: False\n",
    "        })\n",
    "        valid_acc_values.append(valid_acc)\n",
    "        \n",
    "        # Print progress\n",
    "        print('Epoch {} - valid: {:.3f} train: {:.3f} (mean)'.format(\n",
    "            epoch+1, valid_acc, np.mean(batch_acc)\n",
    "        ))\n",
    "        \n",
    "    # Get 1st conv. layer kernels\n",
    "    kernels = conv_kernels.eval()\n",
    "    \n",
    "    # Evaluate test accuracy\n",
    "    test_acc = sess.run(accuracy, feed_dict={\n",
    "        X: X_te,\n",
    "        y: y_te,\n",
    "            training: False\n",
    "    })\n",
    "    print('Test accuracy: {:.3f}'.format(test_acc))"
   ]
  },
  {
   "cell_type": "code",
   "execution_count": 24,
   "metadata": {},
   "outputs": [
    {
     "data": {
      "image/png": "[encoded data removed]",
      "text/plain": [
       "<Figure size 432x288 with 1 Axes>"
      ]
     },
     "metadata": {
      "needs_background": "light"
     },
     "output_type": "display_data"
    }
   ],
   "source": [
    "%matplotlib inline\n",
    "import matplotlib.pyplot as plt\n",
    "\n",
    "# Plot accuracy values\n",
    "plt.plot(valid_acc_values)\n",
    "plt.title('Validation accuracy: {:.3f} (mean last 3)'.format(\n",
    "    np.mean(valid_acc_values[-3:]) # last three values\n",
    "))\n",
    "plt.xlabel('epoch')\n",
    "plt.ylabel('accuracy')\n",
    "plt.show()"
   ]
  },
  {
   "cell_type": "markdown",
   "metadata": {},
   "source": [
    "- test accuracy is 0.68\n",
    "- The CNN is not performing that well as the amount of pictures to learn is quite low , 280 images for 6 classes. Moreover only 2 convolution layers were applied and one hidden layer on the connected layer which I guess is less than the CNN Mobilenet V2 to obtain the 1280 features."
   ]
  },
  {
   "cell_type": "code",
   "execution_count": null,
   "metadata": {},
   "outputs": [],
   "source": []
  }
 ],
 "metadata": {
  "kernelspec": {
   "display_name": "Python 3",
   "language": "python",
   "name": "python3"
  },
  "language_info": {
   "codemirror_mode": {
    "name": "ipython",
    "version": 3
   },
   "file_extension": ".py",
   "mimetype": "text/x-python",
   "name": "python",
   "nbconvert_exporter": "python",
   "pygments_lexer": "ipython3",
   "version": "3.8.1"
  }
 },
 "nbformat": 4,
 "nbformat_minor": 4
}