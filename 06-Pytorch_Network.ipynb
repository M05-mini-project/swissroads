{
 "cells": [
  {
   "cell_type": "code",
   "execution_count": 1,
   "metadata": {},
   "outputs": [],
   "source": [
    "import numpy as np\n",
    "import pandas as pd\n",
    "%matplotlib inline\n",
    "import matplotlib.pyplot as plt\n",
    "import PIL.Image as Image"
   ]
  },
  {
   "cell_type": "markdown",
   "metadata": {},
   "source": [
    "## Goal:\n",
    "\n",
    "- check the NN implementation in Pytorch\n",
    "- compare with TensorFlow"
   ]
  },
  {
   "cell_type": "markdown",
   "metadata": {},
   "source": [
    "### load the npz file and create the array to be then used for model training and testing"
   ]
  },
  {
   "cell_type": "code",
   "execution_count": 2,
   "metadata": {},
   "outputs": [],
   "source": [
    "with np.load('images_data.npz', allow_pickle=True) as npz_file:\n",
    "    df = pd.DataFrame(npz_file['values'], columns= npz_file['columns'])\n",
    "    \n",
    "df_train = df[df['imageSet'] == 'train']\n",
    "X_tr = df_train.drop(['imageSet','category','imageFileName'], axis=1).values\n",
    "y_tr = df_train.category.values\n",
    "\n",
    "df_test = df[df['imageSet'] == 'test']\n",
    "X_te = df_test.drop(['imageSet','category','imageFileName'], axis=1).values\n",
    "y_te = df_test.category.values\n",
    "\n",
    "df_valid = df[df['imageSet'] == 'valid']\n",
    "X_va = df_valid.drop(['imageSet','category','imageFileName'], axis=1).values\n",
    "y_va = df_valid.category.values"
   ]
  },
  {
   "cell_type": "markdown",
   "metadata": {},
   "source": [
    "### transform the categories into numerical values for NN output"
   ]
  },
  {
   "cell_type": "code",
   "execution_count": 3,
   "metadata": {},
   "outputs": [
    {
     "name": "stderr",
     "output_type": "stream",
     "text": [
      "C:\\Users\\lmbhoc2\\AppData\\Local\\Continuum\\anaconda3\\envs\\exts-ml\\lib\\site-packages\\ipykernel_launcher.py:14: SettingWithCopyWarning: \n",
      "A value is trying to be set on a copy of a slice from a DataFrame.\n",
      "Try using .loc[row_indexer,col_indexer] = value instead\n",
      "\n",
      "See the caveats in the documentation: http://pandas.pydata.org/pandas-docs/stable/indexing.html#indexing-view-versus-copy\n",
      "  \n",
      "C:\\Users\\lmbhoc2\\AppData\\Local\\Continuum\\anaconda3\\envs\\exts-ml\\lib\\site-packages\\ipykernel_launcher.py:15: SettingWithCopyWarning: \n",
      "A value is trying to be set on a copy of a slice from a DataFrame.\n",
      "Try using .loc[row_indexer,col_indexer] = value instead\n",
      "\n",
      "See the caveats in the documentation: http://pandas.pydata.org/pandas-docs/stable/indexing.html#indexing-view-versus-copy\n",
      "  from ipykernel import kernelapp as app\n",
      "C:\\Users\\lmbhoc2\\AppData\\Local\\Continuum\\anaconda3\\envs\\exts-ml\\lib\\site-packages\\ipykernel_launcher.py:16: SettingWithCopyWarning: \n",
      "A value is trying to be set on a copy of a slice from a DataFrame.\n",
      "Try using .loc[row_indexer,col_indexer] = value instead\n",
      "\n",
      "See the caveats in the documentation: http://pandas.pydata.org/pandas-docs/stable/indexing.html#indexing-view-versus-copy\n",
      "  app.launch_new_instance()\n"
     ]
    }
   ],
   "source": [
    "def cat2num(x):\n",
    "    if x == 'bike':\n",
    "        return 0\n",
    "    if x=='car':\n",
    "        return 1\n",
    "    if x =='motorcycle':\n",
    "        return 2\n",
    "    if x == 'other':\n",
    "        return 3\n",
    "    if x =='truck':\n",
    "        return 4\n",
    "    if x =='van':\n",
    "        return 5\n",
    "df_train['category_num'] = df_train['category'].apply(cat2num)\n",
    "df_valid['category_num'] = df_valid['category'].apply(cat2num)\n",
    "df_test['category_num'] = df_test['category'].apply(cat2num)\n",
    "y_tr = df_train.category_num.values\n",
    "y_va = df_valid.category_num.values\n",
    "y_te = df_test.category_num.values"
   ]
  },
  {
   "cell_type": "markdown",
   "metadata": {},
   "source": [
    "### scale the data on train dataset"
   ]
  },
  {
   "cell_type": "code",
   "execution_count": 4,
   "metadata": {},
   "outputs": [],
   "source": [
    "from sklearn.preprocessing import StandardScaler\n",
    "scaler = StandardScaler()\n",
    "X_tr = scaler.fit_transform(X_tr.astype(np.float32))\n",
    "X_va = scaler.transform(X_va.astype(np.float32))\n",
    "X_te = scaler.transform(X_te.astype(np.float32))"
   ]
  }
 ],
 "metadata": {
  "kernelspec": {
   "display_name": "Python 3",
   "language": "python",
   "name": "python3"
  },
  "language_info": {
   "codemirror_mode": {
    "name": "ipython",
    "version": 3
   },
   "file_extension": ".py",
   "mimetype": "text/x-python",
   "name": "python",
   "nbconvert_exporter": "python",
   "pygments_lexer": "ipython3",
   "version": "3.6.8"
  }
 },
 "nbformat": 4,
 "nbformat_minor": 4
}