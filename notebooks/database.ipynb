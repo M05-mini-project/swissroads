{
 "cells": [
  {
   "cell_type": "code",
   "execution_count": 1,
   "metadata": {
    "tags": []
   },
   "outputs": [
    {
     "output_type": "stream",
     "name": "stderr",
     "text": "WARNING:absl:Some hub symbols are not available because TensorFlow version is less than 1.14\n"
    }
   ],
   "source": [
    "import tensorflow as tf\n",
    "import tensorflow_hub as hub\n",
    "import glob\n",
    "import os\n",
    "import PIL.Image as Image\n",
    "import numpy as np\n",
    "import pandas as pd\n",
    "%matplotlib inline\n",
    "import matplotlib.pyplot as plt\n"
   ]
  },
  {
   "cell_type": "markdown",
   "metadata": {},
   "source": [
    "# 1- Let's loop all the dataset folders *.png files to create features\n",
    "    - my idea is to create a unique npz file containing the 1280 features extrated from Mobilnet V2\n",
    "    - and add 3 columns with :\n",
    "        - image category (bike, car,...)\n",
    "        - image file name (xxx.png)\n",
    "        - image set (train, valid, test)"
   ]
  },
  {
   "cell_type": "markdown",
   "metadata": {},
   "source": [
    "- parse all files into swissroads folder\n",
    "- open the image with PIL and resize to the desired size for Mobilnet V2 ie 224x224, normalized between 0 and 1"
   ]
  },
  {
   "cell_type": "code",
   "execution_count": 2,
   "metadata": {},
   "outputs": [],
   "source": [
    "folders = ['test','train','valid']\n",
    "categories = ['bike', 'car', 'motorcycle','other','truck','van']\n",
    "images = []\n",
    "for folder in folders:\n",
    "    for cat in categories:\n",
    "        images.append(glob.glob('{}/*.png'.format('./swissroads/' + folder + '/' + cat), recursive=True))\n",
    "\n",
    "batches_data = []\n",
    "batches_cat = []\n",
    "batches_file = []\n",
    "batches_folder = []\n",
    "\n",
    "for j in range(len(folders)):\n",
    "    for i in range(len(categories)):\n",
    "        for image in images[i+6*j]:\n",
    "            with open(image,\"rb\") as file:\n",
    "                img = Image.open(file)\n",
    "                img_resized = img.resize([224, 224], resample=Image.BILINEAR)       \n",
    "                img_batch = np.array(img_resized, dtype=np.float32)[:, :, :]/255\n",
    "                batches_data.append(img_batch)\n",
    "                batches_cat.append(categories[i])\n",
    "                batches_file.append(file.name) \n",
    "                batches_folder.append(folders[j])"
   ]
  },
  {
   "cell_type": "markdown",
   "metadata": {},
   "source": [
    "# 2- Create a TensorFlow graph to extract the features from Mobilenet V2"
   ]
  },
  {
   "cell_type": "code",
   "execution_count": 3,
   "metadata": {
    "tags": []
   },
   "outputs": [
    {
     "output_type": "stream",
     "name": "stdout",
     "text": "INFO:tensorflow:Saver not created because there are no variables in the graph to restore\nINFO:tensorflow:Saver not created because there are no variables in the graph to restore\n"
    }
   ],
   "source": [
    "# Create a TF graph\n",
    "img_graph = tf.Graph()\n",
    "\n",
    "with img_graph.as_default():\n",
    "    # Download the mobilnet_v2 module\n",
    "    module_url = 'https://tfhub.dev/google/imagenet/mobilenet_v2_100_224/feature_vector/2'\n",
    "    feature_extractor = hub.Module(module_url)\n",
    "\n",
    "    # Create input placeholder\n",
    "    input_imgs = tf.placeholder(dtype=tf.float32, shape=[None, 224, 224, 3])\n",
    "\n",
    "    # Create a node with the features of the input image\n",
    "    imgs_features = feature_extractor(input_imgs)\n",
    "\n",
    "    # Collect initializers\n",
    "    init_op = tf.group([tf.global_variables_initializer(), tf.tables_initializer()])\n",
    "    \n",
    "img_graph.finalize()"
   ]
  },
  {
   "cell_type": "markdown",
   "metadata": {},
   "source": [
    "# 3- Run the Tensor Flow Graph to textract the features"
   ]
  },
  {
   "cell_type": "code",
   "execution_count": 4,
   "metadata": {},
   "outputs": [
    {
     "output_type": "execute_result",
     "data": {
      "text/plain": "(469, 1280)"
     },
     "metadata": {},
     "execution_count": 4
    }
   ],
   "source": [
    "# Create a TF session\n",
    "sess = tf.Session(graph=img_graph)\n",
    "\n",
    "# Initialize it\n",
    "sess.run(init_op)\n",
    "\n",
    "# Extract features\n",
    "features = sess.run(imgs_features, feed_dict={input_imgs: batches_data})\n",
    "features.shape"
   ]
  },
  {
   "cell_type": "markdown",
   "metadata": {},
   "source": [
    "# 4- Append the 3 other features previously explained to the 1280 extracted features"
   ]
  },
  {
   "cell_type": "code",
   "execution_count": 5,
   "metadata": {},
   "outputs": [],
   "source": [
    "values = np.append(features, np.array(batches_cat)[:,np.newaxis], axis=1)\n",
    "values = np.append(values, np.array(batches_file)[:,np.newaxis], axis=1)\n",
    "values = np.append(values, np.array(batches_folder)[:,np.newaxis], axis=1)"
   ]
  },
  {
   "cell_type": "code",
   "execution_count": 6,
   "metadata": {},
   "outputs": [
    {
     "output_type": "execute_result",
     "data": {
      "text/plain": "(469, 1283)"
     },
     "metadata": {},
     "execution_count": 6
    }
   ],
   "source": [
    "values.shape"
   ]
  },
  {
   "cell_type": "markdown",
   "metadata": {},
   "source": [
    "- We finally have a 469 images with 1280 high level features extracted from Mobilnet v2 each\n",
    "- added 3 features to recover easily the category of the image, the file source and the dataset"
   ]
  },
  {
   "cell_type": "markdown",
   "metadata": {},
   "source": [
    "# 5-save the data into a npz file"
   ]
  },
  {
   "cell_type": "code",
   "execution_count": 7,
   "metadata": {},
   "outputs": [],
   "source": [
    "columns_name = []\n",
    "for i in range(1280):\n",
    "    columns_name.append('feature_' + str(i))\n",
    "    \n",
    "columns_name.append('category')\n",
    "columns_name.append('imageFileName')\n",
    "columns_name.append('imageSet')\n",
    "\n",
    "np.savez('images_data.npz', values=values, columns=columns_name)"
   ]
  },
  {
   "cell_type": "code",
   "execution_count": null,
   "metadata": {},
   "outputs": [],
   "source": []
  }
 ],
 "metadata": {
  "kernelspec": {
   "display_name": "Python 3.6.11 64-bit ('M05_mini_project': conda)",
   "language": "python",
   "name": "python361164bitm05miniprojectcondaf8c68ce1f8fa46bb9276b1d5f41764f3"
  },
  "language_info": {
   "codemirror_mode": {
    "name": "ipython",
    "version": 3
   },
   "file_extension": ".py",
   "mimetype": "text/x-python",
   "name": "python",
   "nbconvert_exporter": "python",
   "pygments_lexer": "ipython3",
   "version": "3.6.11-final"
  }
 },
 "nbformat": 4,
 "nbformat_minor": 4
}